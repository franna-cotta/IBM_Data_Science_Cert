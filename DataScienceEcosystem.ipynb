{
 "cells": [
  {
   "cell_type": "markdown",
   "id": "a397a9fd-6418-493d-8cbd-b1221fe750cd",
   "metadata": {},
   "source": [
    "# Data Science Tools and Ecosystem"
   ]
  },
  {
   "cell_type": "markdown",
   "id": "9ebf6610-d9cd-4b11-a03c-af1b15b491ac",
   "metadata": {},
   "source": [
    "In this notebook, Data Science Tools and Ecosystem are summarized."
   ]
  },
  {
   "cell_type": "markdown",
   "id": "a69b332b-ba80-4a79-b560-ecb988da156b",
   "metadata": {},
   "source": [
    "Some of the popular languages that Data Scientists use are:\n",
    "1. Python\n",
    "2. R\n",
    "3. SQL\n"
   ]
  },
  {
   "cell_type": "markdown",
   "id": "12aa0e4c-d423-40f7-93aa-ea6048fdd985",
   "metadata": {},
   "source": [
    "Some of the commonly used libraries used by Data Scientists include:\n",
    "1. Matplotlib\n",
    "2. TensorFlow\n",
    "3. Pandas"
   ]
  },
  {
   "cell_type": "markdown",
   "id": "b137a7f0-e6f7-42c4-ba01-35d0ffd4401e",
   "metadata": {},
   "source": [
    "| Data Science Tools |\n",
    "| --- |\n",
    "| Jupyter Notebook |\n",
    "| Spyder |\n",
    "| Apache Zeppelin |\n"
   ]
  },
  {
   "cell_type": "markdown",
   "id": "9278918b-a389-4650-965b-2357d560e1a2",
   "metadata": {},
   "source": [
    "### Below are a few examples of evaluating arithmetic expressions in Python"
   ]
  },
  {
   "cell_type": "code",
   "execution_count": 3,
   "id": "abc7b730-0827-4eb8-99c6-0b0fb2b5a73a",
   "metadata": {
    "tags": []
   },
   "outputs": [
    {
     "data": {
      "text/plain": [
       "17"
      ]
     },
     "execution_count": 3,
     "metadata": {},
     "output_type": "execute_result"
    }
   ],
   "source": [
    "# This a simple arithmetic expression to mutiply then add integers\n",
    "(3*4)+5"
   ]
  },
  {
   "cell_type": "code",
   "execution_count": 4,
   "id": "20032dfe-3703-42f1-8957-2e90516b5acd",
   "metadata": {
    "tags": []
   },
   "outputs": [
    {
     "data": {
      "text/plain": [
       "3.3333333333333335"
      ]
     },
     "execution_count": 4,
     "metadata": {},
     "output_type": "execute_result"
    }
   ],
   "source": [
    "# This will convert 200 minutes to hours by diving by 60\n",
    "200 / 60"
   ]
  },
  {
   "cell_type": "markdown",
   "id": "a2db06e2-7fa8-4a89-b057-8eecb6b2da04",
   "metadata": {},
   "source": [
    "**Objectives**\n",
    "- List popular languages used by data scientists\n",
    "- List commonly used libraries in data science\n",
    "- Create a table of open source development environments used in data science"
   ]
  },
  {
   "cell_type": "markdown",
   "id": "7a658892-9fa3-43c9-b727-c388d413eef4",
   "metadata": {},
   "source": [
    "## Author\n",
    "Francesca Carter"
   ]
  },
  {
   "cell_type": "code",
   "execution_count": null,
   "id": "33a53e20-4c8e-4e54-9b55-f029099a999c",
   "metadata": {},
   "outputs": [],
   "source": []
  }
 ],
 "metadata": {
  "kernelspec": {
   "display_name": "Python",
   "language": "python",
   "name": "conda-env-python-py"
  },
  "language_info": {
   "codemirror_mode": {
    "name": "ipython",
    "version": 3
   },
   "file_extension": ".py",
   "mimetype": "text/x-python",
   "name": "python",
   "nbconvert_exporter": "python",
   "pygments_lexer": "ipython3",
   "version": "3.7.12"
  }
 },
 "nbformat": 4,
 "nbformat_minor": 5
}
